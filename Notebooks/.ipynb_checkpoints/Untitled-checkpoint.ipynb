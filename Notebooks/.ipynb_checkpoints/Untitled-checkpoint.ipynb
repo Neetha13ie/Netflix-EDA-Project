{
 "cells": [
  {
   "cell_type": "code",
   "execution_count": null,
   "id": "80f2f7a9-09f3-4edf-a4be-6a9cedc515b7",
   "metadata": {},
   "outputs": [],
   "source": []
  }
 ],
 "metadata": {
  "kernelspec": {
   "display_name": "",
   "name": ""
  },
  "language_info": {
   "name": ""
  }
 },
 "nbformat": 4,
 "nbformat_minor": 5
}
